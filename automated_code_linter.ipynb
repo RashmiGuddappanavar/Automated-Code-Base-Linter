{
 "cells": [
  {
   "cell_type": "code",
   "execution_count": 9,
   "id": "697b7866-c529-4097-ab09-2b6c30076da7",
   "metadata": {},
   "outputs": [
    {
     "name": "stdout",
     "output_type": "stream",
     "text": [
      "\n",
      "Account Management Menu:\n",
      "1. Create a new account\n",
      "2. Log in\n",
      "3. Delete account\n",
      "4. Exit\n"
     ]
    },
    {
     "name": "stdin",
     "output_type": "stream",
     "text": [
      "Enter your choice:  1\n",
      "Enter a username to create an account:  Rashmi\n",
      "Enter a password to create an account:  R@shmi\n"
     ]
    },
    {
     "name": "stdout",
     "output_type": "stream",
     "text": [
      "Account created successfully.\n",
      "\n",
      "Account Management Menu:\n",
      "1. Create a new account\n",
      "2. Log in\n",
      "3. Delete account\n",
      "4. Exit\n"
     ]
    },
    {
     "name": "stdin",
     "output_type": "stream",
     "text": [
      "Enter your choice:  2\n",
      "Enter your username:  Rasmi\n",
      "Enter your password:  R@shmi\n"
     ]
    },
    {
     "name": "stdout",
     "output_type": "stream",
     "text": [
      "Incorrect username or password.\n",
      "\n",
      "Account Management Menu:\n",
      "1. Create a new account\n",
      "2. Log in\n",
      "3. Delete account\n",
      "4. Exit\n"
     ]
    },
    {
     "name": "stdin",
     "output_type": "stream",
     "text": [
      "Enter your choice:  2\n",
      "Enter your username:  Rashmi\n",
      "Enter your password:  R@shmi\n"
     ]
    },
    {
     "name": "stdout",
     "output_type": "stream",
     "text": [
      "Login successful!\n",
      "\n",
      "Menu for linting the code:\n",
      "1. Write a code for linting\n",
      "2. Lint an already present code\n",
      "3. Logout\n"
     ]
    },
    {
     "name": "stdin",
     "output_type": "stream",
     "text": [
      "Enter your choice:  1\n"
     ]
    },
    {
     "name": "stdout",
     "output_type": "stream",
     "text": [
      "Enter your Python code. Type 'done' on a new line when finished:\n"
     ]
    },
    {
     "name": "stdin",
     "output_type": "stream",
     "text": [
      " print(\"Hello!!)\n",
      " done\n"
     ]
    },
    {
     "name": "stdout",
     "output_type": "stream",
     "text": [
      "Linting failed with error:\n",
      "temp_code.py:1:8: E999 SyntaxError: unterminated string literal (detected at line 1)\n",
      "\n",
      "\n",
      "Menu for linting the code:\n",
      "1. Write a code for linting\n",
      "2. Lint an already present code\n",
      "3. Logout\n"
     ]
    },
    {
     "name": "stdin",
     "output_type": "stream",
     "text": [
      "Enter your choice:  3\n"
     ]
    },
    {
     "name": "stdout",
     "output_type": "stream",
     "text": [
      "Logging out.\n",
      "\n",
      "Account Management Menu:\n",
      "1. Create a new account\n",
      "2. Log in\n",
      "3. Delete account\n",
      "4. Exit\n"
     ]
    },
    {
     "name": "stdin",
     "output_type": "stream",
     "text": [
      "Enter your choice:  4\n"
     ]
    },
    {
     "name": "stdout",
     "output_type": "stream",
     "text": [
      "Exiting the program.\n",
      "Thank you!\n"
     ]
    }
   ],
   "source": [
    "import subprocess  # This line imports the subprocess module, used for creating new processes.\n",
    "import os  # This line imports the os module, which provides a way to interact with the operating system.\n",
    "import bcrypt  # This line imports the bcrypt module, which is used for hashing passwords securely.\n",
    "\n",
    "def create_account():\n",
    "    username = input(\"Enter a username to create an account: \")\n",
    "    password = input(\"Enter a password to create an account: \")\n",
    "    # Hash the entered password using the bcrypt library.\n",
    "    hashed_password = bcrypt.hashpw(password.encode('utf-8'), bcrypt.gensalt())\n",
    "    # Save the hashed password to a file named after the username.\n",
    "    with open(f\"{username}.txt\", \"wb\") as file:\n",
    "        file.write(hashed_password)\n",
    "    print(\"Account created successfully.\")\n",
    "\n",
    "def login():\n",
    "    username = input(\"Enter your username: \")\n",
    "    password = input(\"Enter your password: \")\n",
    "    if user_exists(username):\n",
    "        with open(f\"{username}.txt\", \"rb\") as file:\n",
    "            stored_password = file.read()\n",
    "        # Check if the entered password matches the stored hashed password.\n",
    "        return bcrypt.checkpw(password.encode('utf-8'), stored_password)\n",
    "    else:\n",
    "        return False\n",
    "\n",
    "def user_exists(username):\n",
    "    # Check if a file for the username exists in the current directory.\n",
    "    return os.path.exists(f\"{username}.txt\")\n",
    "\n",
    "def delete_account(username):\n",
    "    if user_exists(username):\n",
    "        confirm = input(f\"Are you sure you want to delete the account for {username}?(yes/no): \")\n",
    "        if confirm.lower() == \"yes\":\n",
    "            os.remove(f\"{username}.txt\")\n",
    "            print(f\"Account of {username} is deleted.\")\n",
    "            return True\n",
    "        else:\n",
    "            print(\"Deletion canceled.\")\n",
    "            return False\n",
    "    else:\n",
    "        print(f\"Account of {username} not found.\")\n",
    "        return False\n",
    "\n",
    "def lint_code(code):\n",
    "    # Write the provided code to a temporary file for linting.\n",
    "    with open(\"temp_code.py\", \"w\") as temp_file:\n",
    "        temp_file.write(code)\n",
    "    try:\n",
    "        # Run Flake8 on the temporary file.\n",
    "        result = subprocess.run([\"flake8\", \"temp_code.py\"], capture_output=True, text=True, check=True)\n",
    "        print(\"Linting passed! You can proceed with the code.\")\n",
    "    except subprocess.CalledProcessError as e:\n",
    "        print(f\"Linting failed with error:\\n{e.stdout}\")\n",
    "    finally:\n",
    "        os.remove(\"temp_code.py\")  # Remove the temporary file after linting.\n",
    "\n",
    "def main_menu():\n",
    "    print(\"\\nAccount Management Menu:\")\n",
    "    print(\"1. Create a new account\")\n",
    "    print(\"2. Log in\")\n",
    "    print(\"3. Delete account\")\n",
    "    print(\"4. Exit\")\n",
    "    choice = input(\"Enter your choice: \")\n",
    "    return choice\n",
    "\n",
    "def user_menu():\n",
    "    print(\"\\nMenu for linting the code:\")\n",
    "    print(\"1. Write a code for linting\")\n",
    "    print(\"2. Lint an already present code\")\n",
    "    print(\"3. Logout\")\n",
    "    choice = input(\"Enter your choice: \")\n",
    "    return choice\n",
    "\n",
    "if __name__ == \"__main__\":\n",
    "    while True:\n",
    "        choice = main_menu()\n",
    "        if choice == \"1\":\n",
    "            create_account()\n",
    "        elif choice == \"2\":\n",
    "            if login():\n",
    "                print(\"Login successful!\")\n",
    "                while True:\n",
    "                    user_choice = user_menu()\n",
    "                    if user_choice == \"1\":\n",
    "                        print(\"Enter your Python code. Type 'done' on a new line when finished:\")\n",
    "                        user_code = \"\"\n",
    "                        while True:\n",
    "                            line = input()\n",
    "                            if line.lower() == 'done':\n",
    "                                break\n",
    "                            user_code += line + \"\\n\"\n",
    "                        lint_code(user_code)\n",
    "                    elif user_choice == \"2\":\n",
    "                        python_file_path = input(\"Enter the name of the Python file to lint: \")\n",
    "                        try:\n",
    "                            with open(python_file_path, \"r\") as file:\n",
    "                                existing_code = file.read()\n",
    "                            lint_code(existing_code)\n",
    "                        except FileNotFoundError:\n",
    "                            print(\"File not found. Please check the file name and try again.\")\n",
    "                    elif user_choice == \"3\":\n",
    "                        print(\"Logging out.\")\n",
    "                        break\n",
    "                    else:\n",
    "                        print(\"Invalid choice.\")\n",
    "            else:\n",
    "                print(\"Incorrect username or password.\")\n",
    "        elif choice == \"3\":\n",
    "            username_to_delete = input(\"Enter the username to delete: \")\n",
    "            delete_account(username_to_delete)\n",
    "        elif choice == \"4\":\n",
    "            print(\"Exiting the program.\")\n",
    "            print(\"Thank you!\")\n",
    "            break\n",
    "        else:\n",
    "            print(\"Invalid choice.\")\n"
   ]
  }
 ],
 "metadata": {
  "kernelspec": {
   "display_name": "Python 3 (ipykernel)",
   "language": "python",
   "name": "python3"
  },
  "language_info": {
   "codemirror_mode": {
    "name": "ipython",
    "version": 3
   },
   "file_extension": ".py",
   "mimetype": "text/x-python",
   "name": "python",
   "nbconvert_exporter": "python",
   "pygments_lexer": "ipython3",
   "version": "3.12.4"
  }
 },
 "nbformat": 4,
 "nbformat_minor": 5
}
